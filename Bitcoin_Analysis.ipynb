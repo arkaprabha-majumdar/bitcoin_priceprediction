{
  "nbformat": 4,
  "nbformat_minor": 0,
  "metadata": {
    "colab": {
      "name": "Bitcoin Analysis",
      "provenance": [],
      "collapsed_sections": []
    },
    "kernelspec": {
      "name": "python3",
      "display_name": "Python 3"
    }
  },
  "cells": [
    {
      "cell_type": "code",
      "metadata": {
        "id": "rWK6s65uy7Eb",
        "colab_type": "code",
        "outputId": "637621ec-9d6f-4ceb-8f80-81af6a75bb8c",
        "colab": {
          "base_uri": "https://localhost:8080/",
          "height": 145
        }
      },
      "source": [
        "from google.colab import drive\n",
        "drive.mount('/gdrive')\n",
        "%cd /gdrive/My\\ Drive/"
      ],
      "execution_count": 0,
      "outputs": [
        {
          "output_type": "stream",
          "text": [
            "Go to this URL in a browser: https://accounts.google.com/o/oauth2/auth?client_id=947318989803-6bn6qk8qdgf4n4g3pfee6491hc0brc4i.apps.googleusercontent.com&redirect_uri=urn%3Aietf%3Awg%3Aoauth%3A2.0%3Aoob&scope=email%20https%3A%2F%2Fwww.googleapis.com%2Fauth%2Fdocs.test%20https%3A%2F%2Fwww.googleapis.com%2Fauth%2Fdrive%20https%3A%2F%2Fwww.googleapis.com%2Fauth%2Fdrive.photos.readonly%20https%3A%2F%2Fwww.googleapis.com%2Fauth%2Fpeopleapi.readonly&response_type=code\n",
            "\n",
            "Enter your authorization code:\n",
            "··········\n",
            "Mounted at /gdrive\n",
            "/gdrive/My Drive\n"
          ],
          "name": "stdout"
        }
      ]
    },
    {
      "cell_type": "code",
      "metadata": {
        "id": "EO_RShm5z0dg",
        "colab_type": "code",
        "outputId": "b8114e69-dd9a-4047-948e-bba1b117063c",
        "colab": {
          "base_uri": "https://localhost:8080/",
          "height": 35
        }
      },
      "source": [
        "%cd \"Colab Notebooks\""
      ],
      "execution_count": 0,
      "outputs": [
        {
          "output_type": "stream",
          "text": [
            "/gdrive/My Drive/Colab Notebooks\n"
          ],
          "name": "stdout"
        }
      ]
    },
    {
      "cell_type": "code",
      "metadata": {
        "id": "KI8Ltc3Rz9aO",
        "colab_type": "code",
        "outputId": "0abf7541-28a0-4b3e-e2fb-4cdb51b6d134",
        "colab": {
          "base_uri": "https://localhost:8080/",
          "height": 107
        }
      },
      "source": [
        "%ls"
      ],
      "execution_count": 0,
      "outputs": [
        {
          "output_type": "stream",
          "text": [
            "'Bitcoin Analysis.ipynb'                         difficulty.csv\n",
            " BTC_USD_2018-11-15_2019-10-14-CoinDesk.csv      hash-rate.csv\n",
            " BTC_USD_2018-11-15_2019-10-14-CoinDesk.gsheet  'NFL- Big Data Bowl.ipynb'\n",
            " data.csv                                        train.csv\n",
            " Data.csv                                        Untitled1.ipynb\n"
          ],
          "name": "stdout"
        }
      ]
    },
    {
      "cell_type": "code",
      "metadata": {
        "id": "bHFDzP1-zdYQ",
        "colab_type": "code",
        "colab": {}
      },
      "source": [
        "import pandas as pd\n",
        "btc=pd.read_csv(\"data.csv\")"
      ],
      "execution_count": 0,
      "outputs": []
    },
    {
      "cell_type": "code",
      "metadata": {
        "id": "Qxass7FIa8bc",
        "colab_type": "code",
        "outputId": "088a841c-e9de-40d2-d211-be0f8bc224da",
        "colab": {
          "base_uri": "https://localhost:8080/",
          "height": 419
        }
      },
      "source": [
        "btc"
      ],
      "execution_count": 0,
      "outputs": [
        {
          "output_type": "execute_result",
          "data": {
            "text/html": [
              "<div>\n",
              "<style scoped>\n",
              "    .dataframe tbody tr th:only-of-type {\n",
              "        vertical-align: middle;\n",
              "    }\n",
              "\n",
              "    .dataframe tbody tr th {\n",
              "        vertical-align: top;\n",
              "    }\n",
              "\n",
              "    .dataframe thead th {\n",
              "        text-align: right;\n",
              "    }\n",
              "</style>\n",
              "<table border=\"1\" class=\"dataframe\">\n",
              "  <thead>\n",
              "    <tr style=\"text-align: right;\">\n",
              "      <th></th>\n",
              "      <th>date</th>\n",
              "      <th>closing</th>\n",
              "      <th>open</th>\n",
              "      <th>high</th>\n",
              "      <th>low</th>\n",
              "      <th>difficulty</th>\n",
              "      <th>hashrate</th>\n",
              "    </tr>\n",
              "  </thead>\n",
              "  <tbody>\n",
              "    <tr>\n",
              "      <th>0</th>\n",
              "      <td>14-10-2018 00:00</td>\n",
              "      <td>6361.417016</td>\n",
              "      <td>6329.977050</td>\n",
              "      <td>6408.601641</td>\n",
              "      <td>6319.713209</td>\n",
              "      <td>7.454970e+12</td>\n",
              "      <td>4.224709e+07</td>\n",
              "    </tr>\n",
              "    <tr>\n",
              "      <th>1</th>\n",
              "      <td>15-10-2018 00:00</td>\n",
              "      <td>6721.587503</td>\n",
              "      <td>6341.380722</td>\n",
              "      <td>7586.524634</td>\n",
              "      <td>6306.184686</td>\n",
              "      <td>7.454970e+12</td>\n",
              "      <td>6.003534e+07</td>\n",
              "    </tr>\n",
              "    <tr>\n",
              "      <th>2</th>\n",
              "      <td>16-10-2018 00:00</td>\n",
              "      <td>6724.833078</td>\n",
              "      <td>6723.097511</td>\n",
              "      <td>6897.033441</td>\n",
              "      <td>6679.922098</td>\n",
              "      <td>7.454970e+12</td>\n",
              "      <td>5.002945e+07</td>\n",
              "    </tr>\n",
              "    <tr>\n",
              "      <th>3</th>\n",
              "      <td>17-10-2018 00:00</td>\n",
              "      <td>6444.747010</td>\n",
              "      <td>6724.833124</td>\n",
              "      <td>6802.158612</td>\n",
              "      <td>6432.047212</td>\n",
              "      <td>7.454970e+12</td>\n",
              "      <td>5.114121e+07</td>\n",
              "    </tr>\n",
              "    <tr>\n",
              "      <th>4</th>\n",
              "      <td>18-10-2018 00:00</td>\n",
              "      <td>6374.648863</td>\n",
              "      <td>6450.064663</td>\n",
              "      <td>6486.474922</td>\n",
              "      <td>6335.173505</td>\n",
              "      <td>7.427360e+12</td>\n",
              "      <td>4.927449e+07</td>\n",
              "    </tr>\n",
              "    <tr>\n",
              "      <th>...</th>\n",
              "      <td>...</td>\n",
              "      <td>...</td>\n",
              "      <td>...</td>\n",
              "      <td>...</td>\n",
              "      <td>...</td>\n",
              "      <td>...</td>\n",
              "      <td>...</td>\n",
              "    </tr>\n",
              "    <tr>\n",
              "      <th>358</th>\n",
              "      <td>09-10-2019 00:00</td>\n",
              "      <td>8572.380812</td>\n",
              "      <td>8173.838803</td>\n",
              "      <td>8691.072691</td>\n",
              "      <td>8117.912240</td>\n",
              "      <td>1.275980e+13</td>\n",
              "      <td>8.753258e+07</td>\n",
              "    </tr>\n",
              "    <tr>\n",
              "      <th>359</th>\n",
              "      <td>10-10-2019 00:00</td>\n",
              "      <td>8582.144518</td>\n",
              "      <td>8572.382301</td>\n",
              "      <td>8654.382776</td>\n",
              "      <td>8435.186510</td>\n",
              "      <td>1.287480e+13</td>\n",
              "      <td>1.047550e+08</td>\n",
              "    </tr>\n",
              "    <tr>\n",
              "      <th>360</th>\n",
              "      <td>11-10-2019 00:00</td>\n",
              "      <td>8320.171581</td>\n",
              "      <td>8582.148123</td>\n",
              "      <td>8796.457282</td>\n",
              "      <td>8288.227631</td>\n",
              "      <td>1.300810e+13</td>\n",
              "      <td>1.008752e+08</td>\n",
              "    </tr>\n",
              "    <tr>\n",
              "      <th>361</th>\n",
              "      <td>12-10-2019 00:00</td>\n",
              "      <td>8328.604260</td>\n",
              "      <td>8320.168154</td>\n",
              "      <td>8406.142415</td>\n",
              "      <td>8225.301457</td>\n",
              "      <td>1.300810e+13</td>\n",
              "      <td>8.600255e+07</td>\n",
              "    </tr>\n",
              "    <tr>\n",
              "      <th>362</th>\n",
              "      <td>13-10-2019 00:00</td>\n",
              "      <td>8282.177326</td>\n",
              "      <td>8309.172913</td>\n",
              "      <td>8468.973640</td>\n",
              "      <td>8167.264904</td>\n",
              "      <td>1.300810e+13</td>\n",
              "      <td>9.182228e+07</td>\n",
              "    </tr>\n",
              "  </tbody>\n",
              "</table>\n",
              "<p>363 rows × 7 columns</p>\n",
              "</div>"
            ],
            "text/plain": [
              "                 date      closing  ...    difficulty      hashrate\n",
              "0    14-10-2018 00:00  6361.417016  ...  7.454970e+12  4.224709e+07\n",
              "1    15-10-2018 00:00  6721.587503  ...  7.454970e+12  6.003534e+07\n",
              "2    16-10-2018 00:00  6724.833078  ...  7.454970e+12  5.002945e+07\n",
              "3    17-10-2018 00:00  6444.747010  ...  7.454970e+12  5.114121e+07\n",
              "4    18-10-2018 00:00  6374.648863  ...  7.427360e+12  4.927449e+07\n",
              "..                ...          ...  ...           ...           ...\n",
              "358  09-10-2019 00:00  8572.380812  ...  1.275980e+13  8.753258e+07\n",
              "359  10-10-2019 00:00  8582.144518  ...  1.287480e+13  1.047550e+08\n",
              "360  11-10-2019 00:00  8320.171581  ...  1.300810e+13  1.008752e+08\n",
              "361  12-10-2019 00:00  8328.604260  ...  1.300810e+13  8.600255e+07\n",
              "362  13-10-2019 00:00  8282.177326  ...  1.300810e+13  9.182228e+07\n",
              "\n",
              "[363 rows x 7 columns]"
            ]
          },
          "metadata": {
            "tags": []
          },
          "execution_count": 4
        }
      ]
    },
    {
      "cell_type": "code",
      "metadata": {
        "id": "pvhBukLta9Nw",
        "colab_type": "code",
        "outputId": "5e86a4b0-f631-4fc1-e6ff-7f7a7da5fbf2",
        "colab": {
          "base_uri": "https://localhost:8080/",
          "height": 136
        }
      },
      "source": [
        "  for i in range(363):\n",
        "  btc.iloc[i,0]=str(btc.iloc[i,0])[0:10]"
      ],
      "execution_count": 0,
      "outputs": [
        {
          "output_type": "error",
          "ename": "IndentationError",
          "evalue": "ignored",
          "traceback": [
            "\u001b[0;36m  File \u001b[0;32m\"<ipython-input-5-05261b82a93b>\"\u001b[0;36m, line \u001b[0;32m2\u001b[0m\n\u001b[0;31m    btc.iloc[i,0]=str(btc.iloc[i,0])[0:10]\u001b[0m\n\u001b[0m      ^\u001b[0m\n\u001b[0;31mIndentationError\u001b[0m\u001b[0;31m:\u001b[0m expected an indented block\n"
          ]
        }
      ]
    },
    {
      "cell_type": "code",
      "metadata": {
        "id": "6r6NlldQbfaL",
        "colab_type": "code",
        "outputId": "fe8da6bf-68cc-4fc6-920d-3aeecbf2c013",
        "colab": {
          "base_uri": "https://localhost:8080/",
          "height": 419
        }
      },
      "source": [
        "btc"
      ],
      "execution_count": 0,
      "outputs": [
        {
          "output_type": "execute_result",
          "data": {
            "text/html": [
              "<div>\n",
              "<style scoped>\n",
              "    .dataframe tbody tr th:only-of-type {\n",
              "        vertical-align: middle;\n",
              "    }\n",
              "\n",
              "    .dataframe tbody tr th {\n",
              "        vertical-align: top;\n",
              "    }\n",
              "\n",
              "    .dataframe thead th {\n",
              "        text-align: right;\n",
              "    }\n",
              "</style>\n",
              "<table border=\"1\" class=\"dataframe\">\n",
              "  <thead>\n",
              "    <tr style=\"text-align: right;\">\n",
              "      <th></th>\n",
              "      <th>date</th>\n",
              "      <th>closing</th>\n",
              "      <th>open</th>\n",
              "      <th>high</th>\n",
              "      <th>low</th>\n",
              "      <th>difficulty</th>\n",
              "      <th>hashrate</th>\n",
              "    </tr>\n",
              "  </thead>\n",
              "  <tbody>\n",
              "    <tr>\n",
              "      <th>0</th>\n",
              "      <td>14-10-2018 00:00</td>\n",
              "      <td>6361.417016</td>\n",
              "      <td>6329.977050</td>\n",
              "      <td>6408.601641</td>\n",
              "      <td>6319.713209</td>\n",
              "      <td>7.454970e+12</td>\n",
              "      <td>4.224709e+07</td>\n",
              "    </tr>\n",
              "    <tr>\n",
              "      <th>1</th>\n",
              "      <td>15-10-2018 00:00</td>\n",
              "      <td>6721.587503</td>\n",
              "      <td>6341.380722</td>\n",
              "      <td>7586.524634</td>\n",
              "      <td>6306.184686</td>\n",
              "      <td>7.454970e+12</td>\n",
              "      <td>6.003534e+07</td>\n",
              "    </tr>\n",
              "    <tr>\n",
              "      <th>2</th>\n",
              "      <td>16-10-2018 00:00</td>\n",
              "      <td>6724.833078</td>\n",
              "      <td>6723.097511</td>\n",
              "      <td>6897.033441</td>\n",
              "      <td>6679.922098</td>\n",
              "      <td>7.454970e+12</td>\n",
              "      <td>5.002945e+07</td>\n",
              "    </tr>\n",
              "    <tr>\n",
              "      <th>3</th>\n",
              "      <td>17-10-2018 00:00</td>\n",
              "      <td>6444.747010</td>\n",
              "      <td>6724.833124</td>\n",
              "      <td>6802.158612</td>\n",
              "      <td>6432.047212</td>\n",
              "      <td>7.454970e+12</td>\n",
              "      <td>5.114121e+07</td>\n",
              "    </tr>\n",
              "    <tr>\n",
              "      <th>4</th>\n",
              "      <td>18-10-2018 00:00</td>\n",
              "      <td>6374.648863</td>\n",
              "      <td>6450.064663</td>\n",
              "      <td>6486.474922</td>\n",
              "      <td>6335.173505</td>\n",
              "      <td>7.427360e+12</td>\n",
              "      <td>4.927449e+07</td>\n",
              "    </tr>\n",
              "    <tr>\n",
              "      <th>...</th>\n",
              "      <td>...</td>\n",
              "      <td>...</td>\n",
              "      <td>...</td>\n",
              "      <td>...</td>\n",
              "      <td>...</td>\n",
              "      <td>...</td>\n",
              "      <td>...</td>\n",
              "    </tr>\n",
              "    <tr>\n",
              "      <th>358</th>\n",
              "      <td>09-10-2019 00:00</td>\n",
              "      <td>8572.380812</td>\n",
              "      <td>8173.838803</td>\n",
              "      <td>8691.072691</td>\n",
              "      <td>8117.912240</td>\n",
              "      <td>1.275980e+13</td>\n",
              "      <td>8.753258e+07</td>\n",
              "    </tr>\n",
              "    <tr>\n",
              "      <th>359</th>\n",
              "      <td>10-10-2019 00:00</td>\n",
              "      <td>8582.144518</td>\n",
              "      <td>8572.382301</td>\n",
              "      <td>8654.382776</td>\n",
              "      <td>8435.186510</td>\n",
              "      <td>1.287480e+13</td>\n",
              "      <td>1.047550e+08</td>\n",
              "    </tr>\n",
              "    <tr>\n",
              "      <th>360</th>\n",
              "      <td>11-10-2019 00:00</td>\n",
              "      <td>8320.171581</td>\n",
              "      <td>8582.148123</td>\n",
              "      <td>8796.457282</td>\n",
              "      <td>8288.227631</td>\n",
              "      <td>1.300810e+13</td>\n",
              "      <td>1.008752e+08</td>\n",
              "    </tr>\n",
              "    <tr>\n",
              "      <th>361</th>\n",
              "      <td>12-10-2019 00:00</td>\n",
              "      <td>8328.604260</td>\n",
              "      <td>8320.168154</td>\n",
              "      <td>8406.142415</td>\n",
              "      <td>8225.301457</td>\n",
              "      <td>1.300810e+13</td>\n",
              "      <td>8.600255e+07</td>\n",
              "    </tr>\n",
              "    <tr>\n",
              "      <th>362</th>\n",
              "      <td>13-10-2019 00:00</td>\n",
              "      <td>8282.177326</td>\n",
              "      <td>8309.172913</td>\n",
              "      <td>8468.973640</td>\n",
              "      <td>8167.264904</td>\n",
              "      <td>1.300810e+13</td>\n",
              "      <td>9.182228e+07</td>\n",
              "    </tr>\n",
              "  </tbody>\n",
              "</table>\n",
              "<p>363 rows × 7 columns</p>\n",
              "</div>"
            ],
            "text/plain": [
              "                 date      closing  ...    difficulty      hashrate\n",
              "0    14-10-2018 00:00  6361.417016  ...  7.454970e+12  4.224709e+07\n",
              "1    15-10-2018 00:00  6721.587503  ...  7.454970e+12  6.003534e+07\n",
              "2    16-10-2018 00:00  6724.833078  ...  7.454970e+12  5.002945e+07\n",
              "3    17-10-2018 00:00  6444.747010  ...  7.454970e+12  5.114121e+07\n",
              "4    18-10-2018 00:00  6374.648863  ...  7.427360e+12  4.927449e+07\n",
              "..                ...          ...  ...           ...           ...\n",
              "358  09-10-2019 00:00  8572.380812  ...  1.275980e+13  8.753258e+07\n",
              "359  10-10-2019 00:00  8582.144518  ...  1.287480e+13  1.047550e+08\n",
              "360  11-10-2019 00:00  8320.171581  ...  1.300810e+13  1.008752e+08\n",
              "361  12-10-2019 00:00  8328.604260  ...  1.300810e+13  8.600255e+07\n",
              "362  13-10-2019 00:00  8282.177326  ...  1.300810e+13  9.182228e+07\n",
              "\n",
              "[363 rows x 7 columns]"
            ]
          },
          "metadata": {
            "tags": []
          },
          "execution_count": 6
        }
      ]
    },
    {
      "cell_type": "code",
      "metadata": {
        "id": "UZ8yZ0-5bgcV",
        "colab_type": "code",
        "outputId": "5d0c9912-c068-415d-ab0d-a2fc7438fb4b",
        "colab": {
          "base_uri": "https://localhost:8080/",
          "height": 235
        }
      },
      "source": [
        "btc.corr()"
      ],
      "execution_count": 0,
      "outputs": [
        {
          "output_type": "execute_result",
          "data": {
            "text/html": [
              "<div>\n",
              "<style scoped>\n",
              "    .dataframe tbody tr th:only-of-type {\n",
              "        vertical-align: middle;\n",
              "    }\n",
              "\n",
              "    .dataframe tbody tr th {\n",
              "        vertical-align: top;\n",
              "    }\n",
              "\n",
              "    .dataframe thead th {\n",
              "        text-align: right;\n",
              "    }\n",
              "</style>\n",
              "<table border=\"1\" class=\"dataframe\">\n",
              "  <thead>\n",
              "    <tr style=\"text-align: right;\">\n",
              "      <th></th>\n",
              "      <th>closing</th>\n",
              "      <th>open</th>\n",
              "      <th>high</th>\n",
              "      <th>low</th>\n",
              "      <th>difficulty</th>\n",
              "      <th>hashrate</th>\n",
              "    </tr>\n",
              "  </thead>\n",
              "  <tbody>\n",
              "    <tr>\n",
              "      <th>closing</th>\n",
              "      <td>1.000000</td>\n",
              "      <td>0.994496</td>\n",
              "      <td>0.996836</td>\n",
              "      <td>0.997597</td>\n",
              "      <td>0.747331</td>\n",
              "      <td>0.757125</td>\n",
              "    </tr>\n",
              "    <tr>\n",
              "      <th>open</th>\n",
              "      <td>0.994496</td>\n",
              "      <td>1.000000</td>\n",
              "      <td>0.996912</td>\n",
              "      <td>0.996319</td>\n",
              "      <td>0.755032</td>\n",
              "      <td>0.760645</td>\n",
              "    </tr>\n",
              "    <tr>\n",
              "      <th>high</th>\n",
              "      <td>0.996836</td>\n",
              "      <td>0.996912</td>\n",
              "      <td>1.000000</td>\n",
              "      <td>0.994689</td>\n",
              "      <td>0.739147</td>\n",
              "      <td>0.747907</td>\n",
              "    </tr>\n",
              "    <tr>\n",
              "      <th>low</th>\n",
              "      <td>0.997597</td>\n",
              "      <td>0.996319</td>\n",
              "      <td>0.994689</td>\n",
              "      <td>1.000000</td>\n",
              "      <td>0.757880</td>\n",
              "      <td>0.766303</td>\n",
              "    </tr>\n",
              "    <tr>\n",
              "      <th>difficulty</th>\n",
              "      <td>0.747331</td>\n",
              "      <td>0.755032</td>\n",
              "      <td>0.739147</td>\n",
              "      <td>0.757880</td>\n",
              "      <td>1.000000</td>\n",
              "      <td>0.937590</td>\n",
              "    </tr>\n",
              "    <tr>\n",
              "      <th>hashrate</th>\n",
              "      <td>0.757125</td>\n",
              "      <td>0.760645</td>\n",
              "      <td>0.747907</td>\n",
              "      <td>0.766303</td>\n",
              "      <td>0.937590</td>\n",
              "      <td>1.000000</td>\n",
              "    </tr>\n",
              "  </tbody>\n",
              "</table>\n",
              "</div>"
            ],
            "text/plain": [
              "             closing      open      high       low  difficulty  hashrate\n",
              "closing     1.000000  0.994496  0.996836  0.997597    0.747331  0.757125\n",
              "open        0.994496  1.000000  0.996912  0.996319    0.755032  0.760645\n",
              "high        0.996836  0.996912  1.000000  0.994689    0.739147  0.747907\n",
              "low         0.997597  0.996319  0.994689  1.000000    0.757880  0.766303\n",
              "difficulty  0.747331  0.755032  0.739147  0.757880    1.000000  0.937590\n",
              "hashrate    0.757125  0.760645  0.747907  0.766303    0.937590  1.000000"
            ]
          },
          "metadata": {
            "tags": []
          },
          "execution_count": 7
        }
      ]
    },
    {
      "cell_type": "code",
      "metadata": {
        "id": "f2TDvJNpNPgi",
        "colab_type": "code",
        "outputId": "3c28fcc5-d20d-445f-b58a-25736847a329",
        "colab": {
          "base_uri": "https://localhost:8080/",
          "height": 297
        }
      },
      "source": [
        "btc.describe()"
      ],
      "execution_count": 0,
      "outputs": [
        {
          "output_type": "execute_result",
          "data": {
            "text/html": [
              "<div>\n",
              "<style scoped>\n",
              "    .dataframe tbody tr th:only-of-type {\n",
              "        vertical-align: middle;\n",
              "    }\n",
              "\n",
              "    .dataframe tbody tr th {\n",
              "        vertical-align: top;\n",
              "    }\n",
              "\n",
              "    .dataframe thead th {\n",
              "        text-align: right;\n",
              "    }\n",
              "</style>\n",
              "<table border=\"1\" class=\"dataframe\">\n",
              "  <thead>\n",
              "    <tr style=\"text-align: right;\">\n",
              "      <th></th>\n",
              "      <th>closing</th>\n",
              "      <th>open</th>\n",
              "      <th>high</th>\n",
              "      <th>low</th>\n",
              "      <th>difficulty</th>\n",
              "      <th>hashrate</th>\n",
              "    </tr>\n",
              "  </thead>\n",
              "  <tbody>\n",
              "    <tr>\n",
              "      <th>count</th>\n",
              "      <td>363.000000</td>\n",
              "      <td>363.000000</td>\n",
              "      <td>363.000000</td>\n",
              "      <td>363.000000</td>\n",
              "      <td>3.630000e+02</td>\n",
              "      <td>3.630000e+02</td>\n",
              "    </tr>\n",
              "    <tr>\n",
              "      <th>mean</th>\n",
              "      <td>6726.820635</td>\n",
              "      <td>6720.527275</td>\n",
              "      <td>6899.152431</td>\n",
              "      <td>6530.590037</td>\n",
              "      <td>7.579633e+12</td>\n",
              "      <td>5.561770e+07</td>\n",
              "    </tr>\n",
              "    <tr>\n",
              "      <th>std</th>\n",
              "      <td>2833.103835</td>\n",
              "      <td>2831.156412</td>\n",
              "      <td>2933.489910</td>\n",
              "      <td>2712.352476</td>\n",
              "      <td>2.048668e+12</td>\n",
              "      <td>1.733913e+07</td>\n",
              "    </tr>\n",
              "    <tr>\n",
              "      <th>min</th>\n",
              "      <td>3194.962272</td>\n",
              "      <td>3178.299355</td>\n",
              "      <td>3227.867420</td>\n",
              "      <td>3122.342716</td>\n",
              "      <td>5.106420e+12</td>\n",
              "      <td>3.199801e+07</td>\n",
              "    </tr>\n",
              "    <tr>\n",
              "      <th>25%</th>\n",
              "      <td>3895.460381</td>\n",
              "      <td>3898.983570</td>\n",
              "      <td>3991.785399</td>\n",
              "      <td>3811.222499</td>\n",
              "      <td>6.068890e+12</td>\n",
              "      <td>4.314113e+07</td>\n",
              "    </tr>\n",
              "    <tr>\n",
              "      <th>50%</th>\n",
              "      <td>6341.094813</td>\n",
              "      <td>6338.781895</td>\n",
              "      <td>6394.783431</td>\n",
              "      <td>6292.721847</td>\n",
              "      <td>6.704630e+12</td>\n",
              "      <td>4.898699e+07</td>\n",
              "    </tr>\n",
              "    <tr>\n",
              "      <th>75%</th>\n",
              "      <td>9533.302481</td>\n",
              "      <td>9544.297051</td>\n",
              "      <td>9733.550745</td>\n",
              "      <td>9315.748843</td>\n",
              "      <td>9.013790e+12</td>\n",
              "      <td>6.555966e+07</td>\n",
              "    </tr>\n",
              "    <tr>\n",
              "      <th>max</th>\n",
              "      <td>12575.904070</td>\n",
              "      <td>12585.241970</td>\n",
              "      <td>13879.237710</td>\n",
              "      <td>12127.712180</td>\n",
              "      <td>1.300810e+13</td>\n",
              "      <td>1.084643e+08</td>\n",
              "    </tr>\n",
              "  </tbody>\n",
              "</table>\n",
              "</div>"
            ],
            "text/plain": [
              "            closing          open  ...    difficulty      hashrate\n",
              "count    363.000000    363.000000  ...  3.630000e+02  3.630000e+02\n",
              "mean    6726.820635   6720.527275  ...  7.579633e+12  5.561770e+07\n",
              "std     2833.103835   2831.156412  ...  2.048668e+12  1.733913e+07\n",
              "min     3194.962272   3178.299355  ...  5.106420e+12  3.199801e+07\n",
              "25%     3895.460381   3898.983570  ...  6.068890e+12  4.314113e+07\n",
              "50%     6341.094813   6338.781895  ...  6.704630e+12  4.898699e+07\n",
              "75%     9533.302481   9544.297051  ...  9.013790e+12  6.555966e+07\n",
              "max    12575.904070  12585.241970  ...  1.300810e+13  1.084643e+08\n",
              "\n",
              "[8 rows x 6 columns]"
            ]
          },
          "metadata": {
            "tags": []
          },
          "execution_count": 8
        }
      ]
    },
    {
      "cell_type": "code",
      "metadata": {
        "id": "GGBJeKsrcKnR",
        "colab_type": "code",
        "colab": {}
      },
      "source": [
        "import matplotlib.pyplot as plt\n",
        "from datetime import datetime\n",
        "import math\n",
        "from sklearn.metrics import mean_squared_error\n",
        "from itertools import product\n",
        "import seaborn; seaborn.set()"
      ],
      "execution_count": 0,
      "outputs": []
    },
    {
      "cell_type": "code",
      "metadata": {
        "id": "abaB7galMQ8N",
        "colab_type": "code",
        "outputId": "70ef2fa4-94e5-4992-b4fd-4b5dd77ee349",
        "colab": {
          "base_uri": "https://localhost:8080/",
          "height": 161
        }
      },
      "source": [
        "btc.isnull().any()"
      ],
      "execution_count": 0,
      "outputs": [
        {
          "output_type": "execute_result",
          "data": {
            "text/plain": [
              "date          False\n",
              "closing       False\n",
              "open          False\n",
              "high          False\n",
              "low           False\n",
              "difficulty    False\n",
              "hashrate      False\n",
              "dtype: bool"
            ]
          },
          "metadata": {
            "tags": []
          },
          "execution_count": 10
        }
      ]
    },
    {
      "cell_type": "code",
      "metadata": {
        "id": "_aN1x59GMTjQ",
        "colab_type": "code",
        "colab": {}
      },
      "source": [
        "y_hat_avg = btc.copy()\n",
        "y_hat_avg['moving_avg_forecast'] = btc['closing'].rolling(60).mean().iloc[-1]"
      ],
      "execution_count": 0,
      "outputs": []
    },
    {
      "cell_type": "code",
      "metadata": {
        "id": "iLWhyLQYMofs",
        "colab_type": "code",
        "outputId": "eaae8a66-114c-41ee-854a-00510f9e1e9d",
        "colab": {
          "base_uri": "https://localhost:8080/",
          "height": 485
        }
      },
      "source": [
        "plt.figure(figsize=(16,8))\n",
        "plt.plot(btc['closing'], label='Price')\n",
        "plt.plot(y_hat_avg['moving_avg_forecast'], label='Moving Average Forecast')\n",
        "plt.legend(loc='best')\n",
        "plt.show()"
      ],
      "execution_count": 0,
      "outputs": [
        {
          "output_type": "display_data",
          "data": {
            "image/png": "[encoded data removed]",
            "text/plain": [
              "<Figure size 1152x576 with 1 Axes>"
            ]
          },
          "metadata": {
            "tags": []
          }
        }
      ]
    },
    {
      "cell_type": "code",
      "metadata": {
        "id": "FTZweJwcM34f",
        "colab_type": "code",
        "outputId": "4aab328f-31aa-4090-8bdd-20b9c285ee07",
        "colab": {
          "base_uri": "https://localhost:8080/",
          "height": 244
        }
      },
      "source": [
        "rolling = btc['closing'].ewm(com=200) # center of mass : \n",
        "\n",
        "data = pd.DataFrame({'input': weighted_Price, \n",
        "                     '200days rolling_mean': rolling.mean(), \n",
        "                     '200days rolling_std': rolling.std()}) # moving avg : smoothning the data due to fluationi\n",
        "\n",
        "ax = data.plot(style=['-', '--', ':'])\n",
        "ax.set_yscale('log')\n",
        "ax.set_title(\"EMA on log scale\")\n",
        "ax.lines[0].set_alpha(0.3)"
      ],
      "execution_count": 0,
      "outputs": [
        {
          "output_type": "error",
          "ename": "NameError",
          "evalue": "ignored",
          "traceback": [
            "\u001b[0;31m---------------------------------------------------------------------------\u001b[0m",
            "\u001b[0;31mNameError\u001b[0m                                 Traceback (most recent call last)",
            "\u001b[0;32m<ipython-input-13-5d630dbe66c7>\u001b[0m in \u001b[0;36m<module>\u001b[0;34m()\u001b[0m\n\u001b[1;32m      1\u001b[0m \u001b[0mrolling\u001b[0m \u001b[0;34m=\u001b[0m \u001b[0mbtc\u001b[0m\u001b[0;34m[\u001b[0m\u001b[0;34m'closing'\u001b[0m\u001b[0;34m]\u001b[0m\u001b[0;34m.\u001b[0m\u001b[0mewm\u001b[0m\u001b[0;34m(\u001b[0m\u001b[0mcom\u001b[0m\u001b[0;34m=\u001b[0m\u001b[0;36m200\u001b[0m\u001b[0;34m)\u001b[0m \u001b[0;31m# center of mass :\u001b[0m\u001b[0;34m\u001b[0m\u001b[0;34m\u001b[0m\u001b[0m\n\u001b[1;32m      2\u001b[0m \u001b[0;34m\u001b[0m\u001b[0m\n\u001b[0;32m----> 3\u001b[0;31m data = pd.DataFrame({'input': weighted_Price, \n\u001b[0m\u001b[1;32m      4\u001b[0m                      \u001b[0;34m'200days rolling_mean'\u001b[0m\u001b[0;34m:\u001b[0m \u001b[0mrolling\u001b[0m\u001b[0;34m.\u001b[0m\u001b[0mmean\u001b[0m\u001b[0;34m(\u001b[0m\u001b[0;34m)\u001b[0m\u001b[0;34m,\u001b[0m\u001b[0;34m\u001b[0m\u001b[0;34m\u001b[0m\u001b[0m\n\u001b[1;32m      5\u001b[0m                      '200days rolling_std': rolling.std()}) # moving avg : smoothning the data due to fluationi\n",
            "\u001b[0;31mNameError\u001b[0m: name 'weighted_Price' is not defined"
          ]
        }
      ]
    },
    {
      "cell_type": "code",
      "metadata": {
        "id": "a81Eejn3NqnA",
        "colab_type": "code",
        "outputId": "5ba226ee-687f-4ade-ad9e-4805e67870e2",
        "colab": {
          "base_uri": "https://localhost:8080/",
          "height": 1000
        }
      },
      "source": [
        "from statsmodels.tsa.ar_model import AR\n",
        "from sklearn.metrics import mean_squared_error\n",
        "\n",
        "high = btc['high'].values\n",
        "\n",
        "print(high)"
      ],
      "execution_count": 0,
      "outputs": [
        {
          "output_type": "stream",
          "text": [
            "[ 6408.601641  7586.524634  6897.033441  6802.158612  6486.474922\n",
            "  6407.227988  6438.790347  6472.834459  6437.074557  6434.977703\n",
            "  6460.249804  6421.783207  6448.028506  6442.889414  6442.090373\n",
            "  6439.457696  6313.272457  6394.783431  6376.656227  6409.156466\n",
            "  6371.23797   6473.778438  6440.957228  6449.998745  6553.951932\n",
            "  6530.733661  6433.253185  6396.877364  6380.813434  6391.766568\n",
            "  6331.487634  6295.953866  5692.068952  5608.722588  5564.028968\n",
            "  5638.976973  5610.149551  4888.622712  4631.902485  4591.879115\n",
            "  4405.744585  4378.509892  4101.999387  4064.748217  3830.820142\n",
            "  4341.439922  4400.462583  4299.976374  4251.369948  4255.954021\n",
            "  4104.858957  4034.531558  3913.531776  3838.120977  3621.501257\n",
            "  3475.930178  3642.41485   3591.236734  3428.100418  3474.391356\n",
            "  3435.142473  3300.651394  3227.86742   3256.600326  3579.814884\n",
            "  3573.240335  3929.098491  4160.296726  4164.550651  3929.859591\n",
            "  4052.230547  4241.436134  4045.572084  3869.401164  3842.311793\n",
            "  3945.244649  3690.306792  3741.881855  3900.709127  3916.197684\n",
            "  3844.986111  3866.417432  4063.945356  4060.8648    4096.383035\n",
            "  4023.73449   4025.528311  3676.732346  3644.344105  3642.047723\n",
            "  3696.069001  3679.703656  3662.918729  3644.731298  3641.961038\n",
            "  3735.35654   3701.454802  3558.233818  3605.741677  3608.876902\n",
            "  3591.593897  3574.12437   3648.499903  3564.954936  3541.417161\n",
            "  3438.068371  3460.23195   3471.247461  3454.414301  3453.694339\n",
            "  3487.571973  3442.638096  3433.689632  3441.92046   3380.783837\n",
            "  3702.481571  3638.49429   3631.038219  3653.116621  3616.423243\n",
            "  3625.790495  3587.773513  3617.520131  3607.963504  3662.620411\n",
            "  3925.121367  3975.889598  3964.555496  3979.057929  3953.534813\n",
            "  4146.011274  4178.658614  3852.370301  3831.029065  3824.165879\n",
            "  3879.231185  3840.044823  3819.194356  3818.695481  3804.353616\n",
            "  3866.718704  3881.96577   3890.745492  3917.997566  3948.88414\n",
            "  3921.934211  3913.45552   3879.971604  3873.719094  3897.72571\n",
            "  3908.278294  4033.682777  3992.605506  4020.892414  4020.007072\n",
            "  4034.526497  4053.538056  4002.532316  4006.984568  3990.965292\n",
            "  3982.232764  3928.979427  4030.357641  4033.386524  4100.149119\n",
            "  4128.415102  4104.536254  4148.6618    4961.780306  5325.233877\n",
            "  5071.589614  5060.703203  5229.957551  5247.464931  5343.247093\n",
            "  5285.86342   5450.989154  5342.523902  5098.606039  5117.621045\n",
            "  5167.43134   5181.927     5218.96154   5253.861961  5310.487045\n",
            "  5345.759303  5353.28683   5330.917314  5408.841963  5622.481868\n",
            "  5614.992209  5505.131953  5274.695485  5218.815183  5208.347656\n",
            "  5192.025339  5292.605385  5351.359143  5427.488394  5791.211463\n",
            "  5829.948913  5787.645478  5750.565609  5956.150104  5942.410892\n",
            "  6159.685902  6426.831207  7337.322181  7577.770675  8148.561088\n",
            "  8353.869652  8260.95311   8360.300191  7935.97477   7490.7942\n",
            "  8242.357508  8296.545603  8092.679154  8018.754546  7973.230631\n",
            "  8171.800838  8130.577634  8780.78203   8937.246491  8819.666297\n",
            "  8756.242443  9084.149997  8544.643225  8622.729981  8830.182154\n",
            "  8765.743462  8108.159569  7922.561139  7920.527049  8134.16682\n",
            "  8074.593539  7964.024535  8064.900135  8048.222661  8249.416067\n",
            "  8330.664352  8694.022966  8897.996023  9381.819714  9409.342462\n",
            "  9357.773256  9285.416716  9599.915335  9941.527077 11190.5678\n",
            " 11307.69355  11104.10052  11704.6219   13879.23771  13328.58031\n",
            " 12402.04351  12381.0417   12187.3067   11196.99575  10933.815\n",
            " 11967.65444  12044.07955  11440.85573  11735.57094  11593.11777\n",
            " 12354.46303  12815.67904  13175.68774  12188.17784  11919.92206\n",
            " 11830.80837  11463.24252  10954.82405  11075.35282   9972.24511\n",
            " 10740.9887   10797.63846  11035.42593  11096.77442  10685.24817\n",
            " 10338.63884   9916.47758  10184.44037   9924.602563 10193.53397\n",
            "  9603.319275  9717.514278  9719.981661 10132.40473  10474.78174\n",
            " 10663.61879  10909.25592  11051.98579  11940.48387  12314.10766\n",
            " 12129.40974  12032.04653  12027.25991  11967.87796  11545.10453\n",
            " 11583.8907   11434.88853  10860.82397  10444.07996  10530.36531\n",
            " 10463.91871  10462.74951  10812.79708  10943.87041  10818.58913\n",
            " 10229.01701  10450.29234  10408.96385  10292.84102  10624.60517\n",
            " 10402.29749  10279.25422   9747.119828  9682.725536  9699.864379\n",
            "  9819.158622 10440.22046  10752.42149  10810.01817  10643.94607\n",
            " 10928.34381  10563.71089  10595.19556  10524.38695  10380.30659\n",
            " 10269.03039  10459.92661  10447.38863  10425.91182  10381.56459\n",
            " 10373.06351  10304.62364  10263.82338  10286.01075  10289.21566\n",
            " 10179.74247  10083.09813  10062.91987   9770.161484  8741.509561\n",
            "  8462.412486  8286.743263  8321.160587  8228.641494  8331.291686\n",
            "  8508.705409  8388.015862  8412.650047  8240.948769  8196.249514\n",
            "  8171.568254  8304.140139  8316.990673  8691.072691  8654.382776\n",
            "  8796.457282  8406.142415  8468.97364 ]\n"
          ],
          "name": "stdout"
        }
      ]
    },
    {
      "cell_type": "code",
      "metadata": {
        "id": "Fp71_87cPpgg",
        "colab_type": "code",
        "outputId": "0d6e4d4c-e493-47c2-81b6-c5902b00787e",
        "colab": {
          "base_uri": "https://localhost:8080/",
          "height": 419
        }
      },
      "source": [
        "train=btc.iloc[:300,:]\n",
        "test=btc.iloc[300:,:]\n",
        "train"
      ],
      "execution_count": 0,
      "outputs": [
        {
          "output_type": "execute_result",
          "data": {
            "text/html": [
              "<div>\n",
              "<style scoped>\n",
              "    .dataframe tbody tr th:only-of-type {\n",
              "        vertical-align: middle;\n",
              "    }\n",
              "\n",
              "    .dataframe tbody tr th {\n",
              "        vertical-align: top;\n",
              "    }\n",
              "\n",
              "    .dataframe thead th {\n",
              "        text-align: right;\n",
              "    }\n",
              "</style>\n",
              "<table border=\"1\" class=\"dataframe\">\n",
              "  <thead>\n",
              "    <tr style=\"text-align: right;\">\n",
              "      <th></th>\n",
              "      <th>date</th>\n",
              "      <th>closing</th>\n",
              "      <th>open</th>\n",
              "      <th>high</th>\n",
              "      <th>low</th>\n",
              "      <th>difficulty</th>\n",
              "      <th>hashrate</th>\n",
              "    </tr>\n",
              "  </thead>\n",
              "  <tbody>\n",
              "    <tr>\n",
              "      <th>0</th>\n",
              "      <td>14-10-2018 00:00</td>\n",
              "      <td>6361.417016</td>\n",
              "      <td>6329.977050</td>\n",
              "      <td>6408.601641</td>\n",
              "      <td>6319.713209</td>\n",
              "      <td>7.454970e+12</td>\n",
              "      <td>42247089.18</td>\n",
              "    </tr>\n",
              "    <tr>\n",
              "      <th>1</th>\n",
              "      <td>15-10-2018 00:00</td>\n",
              "      <td>6721.587503</td>\n",
              "      <td>6341.380722</td>\n",
              "      <td>7586.524634</td>\n",
              "      <td>6306.184686</td>\n",
              "      <td>7.454970e+12</td>\n",
              "      <td>60035337.26</td>\n",
              "    </tr>\n",
              "    <tr>\n",
              "      <th>2</th>\n",
              "      <td>16-10-2018 00:00</td>\n",
              "      <td>6724.833078</td>\n",
              "      <td>6723.097511</td>\n",
              "      <td>6897.033441</td>\n",
              "      <td>6679.922098</td>\n",
              "      <td>7.454970e+12</td>\n",
              "      <td>50029447.71</td>\n",
              "    </tr>\n",
              "    <tr>\n",
              "      <th>3</th>\n",
              "      <td>17-10-2018 00:00</td>\n",
              "      <td>6444.747010</td>\n",
              "      <td>6724.833124</td>\n",
              "      <td>6802.158612</td>\n",
              "      <td>6432.047212</td>\n",
              "      <td>7.454970e+12</td>\n",
              "      <td>51141213.22</td>\n",
              "    </tr>\n",
              "    <tr>\n",
              "      <th>4</th>\n",
              "      <td>18-10-2018 00:00</td>\n",
              "      <td>6374.648863</td>\n",
              "      <td>6450.064663</td>\n",
              "      <td>6486.474922</td>\n",
              "      <td>6335.173505</td>\n",
              "      <td>7.427360e+12</td>\n",
              "      <td>49274490.48</td>\n",
              "    </tr>\n",
              "    <tr>\n",
              "      <th>...</th>\n",
              "      <td>...</td>\n",
              "      <td>...</td>\n",
              "      <td>...</td>\n",
              "      <td>...</td>\n",
              "      <td>...</td>\n",
              "      <td>...</td>\n",
              "      <td>...</td>\n",
              "    </tr>\n",
              "    <tr>\n",
              "      <th>295</th>\n",
              "      <td>07-08-2019 00:00</td>\n",
              "      <td>11956.047220</td>\n",
              "      <td>11310.221640</td>\n",
              "      <td>12129.409740</td>\n",
              "      <td>11283.676110</td>\n",
              "      <td>9.985350e+12</td>\n",
              "      <td>75945274.30</td>\n",
              "    </tr>\n",
              "    <tr>\n",
              "      <th>296</th>\n",
              "      <td>08-08-2019 00:00</td>\n",
              "      <td>11817.455480</td>\n",
              "      <td>11956.022810</td>\n",
              "      <td>12032.046530</td>\n",
              "      <td>11502.527990</td>\n",
              "      <td>9.985350e+12</td>\n",
              "      <td>70485156.54</td>\n",
              "    </tr>\n",
              "    <tr>\n",
              "      <th>297</th>\n",
              "      <td>09-08-2019 00:00</td>\n",
              "      <td>11827.574570</td>\n",
              "      <td>11972.592950</td>\n",
              "      <td>12027.259910</td>\n",
              "      <td>11654.663250</td>\n",
              "      <td>9.985350e+12</td>\n",
              "      <td>72967028.25</td>\n",
              "    </tr>\n",
              "    <tr>\n",
              "      <th>298</th>\n",
              "      <td>10-08-2019 00:00</td>\n",
              "      <td>11278.281250</td>\n",
              "      <td>11827.574570</td>\n",
              "      <td>11967.877960</td>\n",
              "      <td>11227.622210</td>\n",
              "      <td>9.985350e+12</td>\n",
              "      <td>74952525.62</td>\n",
              "    </tr>\n",
              "    <tr>\n",
              "      <th>299</th>\n",
              "      <td>11-08-2019 00:00</td>\n",
              "      <td>11485.365780</td>\n",
              "      <td>11279.875540</td>\n",
              "      <td>11545.104530</td>\n",
              "      <td>11101.014850</td>\n",
              "      <td>9.985350e+12</td>\n",
              "      <td>75945274.30</td>\n",
              "    </tr>\n",
              "  </tbody>\n",
              "</table>\n",
              "<p>300 rows × 7 columns</p>\n",
              "</div>"
            ],
            "text/plain": [
              "                 date       closing  ...    difficulty     hashrate\n",
              "0    14-10-2018 00:00   6361.417016  ...  7.454970e+12  42247089.18\n",
              "1    15-10-2018 00:00   6721.587503  ...  7.454970e+12  60035337.26\n",
              "2    16-10-2018 00:00   6724.833078  ...  7.454970e+12  50029447.71\n",
              "3    17-10-2018 00:00   6444.747010  ...  7.454970e+12  51141213.22\n",
              "4    18-10-2018 00:00   6374.648863  ...  7.427360e+12  49274490.48\n",
              "..                ...           ...  ...           ...          ...\n",
              "295  07-08-2019 00:00  11956.047220  ...  9.985350e+12  75945274.30\n",
              "296  08-08-2019 00:00  11817.455480  ...  9.985350e+12  70485156.54\n",
              "297  09-08-2019 00:00  11827.574570  ...  9.985350e+12  72967028.25\n",
              "298  10-08-2019 00:00  11278.281250  ...  9.985350e+12  74952525.62\n",
              "299  11-08-2019 00:00  11485.365780  ...  9.985350e+12  75945274.30\n",
              "\n",
              "[300 rows x 7 columns]"
            ]
          },
          "metadata": {
            "tags": []
          },
          "execution_count": 15
        }
      ]
    },
    {
      "cell_type": "code",
      "metadata": {
        "id": "pAmAIHgSP35E",
        "colab_type": "code",
        "outputId": "4df8374d-49bb-48c6-8dce-dee3aa0f65d6",
        "colab": {
          "base_uri": "https://localhost:8080/",
          "height": 419
        }
      },
      "source": [
        "test"
      ],
      "execution_count": 0,
      "outputs": [
        {
          "output_type": "execute_result",
          "data": {
            "text/html": [
              "<div>\n",
              "<style scoped>\n",
              "    .dataframe tbody tr th:only-of-type {\n",
              "        vertical-align: middle;\n",
              "    }\n",
              "\n",
              "    .dataframe tbody tr th {\n",
              "        vertical-align: top;\n",
              "    }\n",
              "\n",
              "    .dataframe thead th {\n",
              "        text-align: right;\n",
              "    }\n",
              "</style>\n",
              "<table border=\"1\" class=\"dataframe\">\n",
              "  <thead>\n",
              "    <tr style=\"text-align: right;\">\n",
              "      <th></th>\n",
              "      <th>date</th>\n",
              "      <th>closing</th>\n",
              "      <th>open</th>\n",
              "      <th>high</th>\n",
              "      <th>low</th>\n",
              "      <th>difficulty</th>\n",
              "      <th>hashrate</th>\n",
              "    </tr>\n",
              "  </thead>\n",
              "  <tbody>\n",
              "    <tr>\n",
              "      <th>300</th>\n",
              "      <td>12-08-2019 00:00</td>\n",
              "      <td>11391.968650</td>\n",
              "      <td>11485.364080</td>\n",
              "      <td>11583.890700</td>\n",
              "      <td>11227.440660</td>\n",
              "      <td>9.985350e+12</td>\n",
              "      <td>6.601779e+07</td>\n",
              "    </tr>\n",
              "    <tr>\n",
              "      <th>301</th>\n",
              "      <td>13-08-2019 00:00</td>\n",
              "      <td>10869.379110</td>\n",
              "      <td>11391.963830</td>\n",
              "      <td>11434.888530</td>\n",
              "      <td>10746.755950</td>\n",
              "      <td>9.985350e+12</td>\n",
              "      <td>7.793077e+07</td>\n",
              "    </tr>\n",
              "    <tr>\n",
              "      <th>302</th>\n",
              "      <td>14-08-2019 00:00</td>\n",
              "      <td>10211.498580</td>\n",
              "      <td>10851.200470</td>\n",
              "      <td>10860.823970</td>\n",
              "      <td>10047.995130</td>\n",
              "      <td>9.985350e+12</td>\n",
              "      <td>7.544890e+07</td>\n",
              "    </tr>\n",
              "    <tr>\n",
              "      <th>303</th>\n",
              "      <td>15-08-2019 00:00</td>\n",
              "      <td>10386.539550</td>\n",
              "      <td>10211.509510</td>\n",
              "      <td>10444.079960</td>\n",
              "      <td>9682.711422</td>\n",
              "      <td>9.985350e+12</td>\n",
              "      <td>7.793077e+07</td>\n",
              "    </tr>\n",
              "    <tr>\n",
              "      <th>304</th>\n",
              "      <td>16-08-2019 00:00</td>\n",
              "      <td>10388.450590</td>\n",
              "      <td>10307.259760</td>\n",
              "      <td>10530.365310</td>\n",
              "      <td>9726.978150</td>\n",
              "      <td>9.985350e+12</td>\n",
              "      <td>7.296703e+07</td>\n",
              "    </tr>\n",
              "    <tr>\n",
              "      <th>...</th>\n",
              "      <td>...</td>\n",
              "      <td>...</td>\n",
              "      <td>...</td>\n",
              "      <td>...</td>\n",
              "      <td>...</td>\n",
              "      <td>...</td>\n",
              "      <td>...</td>\n",
              "    </tr>\n",
              "    <tr>\n",
              "      <th>358</th>\n",
              "      <td>09-10-2019 00:00</td>\n",
              "      <td>8572.380812</td>\n",
              "      <td>8173.838803</td>\n",
              "      <td>8691.072691</td>\n",
              "      <td>8117.912240</td>\n",
              "      <td>1.275980e+13</td>\n",
              "      <td>8.753258e+07</td>\n",
              "    </tr>\n",
              "    <tr>\n",
              "      <th>359</th>\n",
              "      <td>10-10-2019 00:00</td>\n",
              "      <td>8582.144518</td>\n",
              "      <td>8572.382301</td>\n",
              "      <td>8654.382776</td>\n",
              "      <td>8435.186510</td>\n",
              "      <td>1.287480e+13</td>\n",
              "      <td>1.047550e+08</td>\n",
              "    </tr>\n",
              "    <tr>\n",
              "      <th>360</th>\n",
              "      <td>11-10-2019 00:00</td>\n",
              "      <td>8320.171581</td>\n",
              "      <td>8582.148123</td>\n",
              "      <td>8796.457282</td>\n",
              "      <td>8288.227631</td>\n",
              "      <td>1.300810e+13</td>\n",
              "      <td>1.008752e+08</td>\n",
              "    </tr>\n",
              "    <tr>\n",
              "      <th>361</th>\n",
              "      <td>12-10-2019 00:00</td>\n",
              "      <td>8328.604260</td>\n",
              "      <td>8320.168154</td>\n",
              "      <td>8406.142415</td>\n",
              "      <td>8225.301457</td>\n",
              "      <td>1.300810e+13</td>\n",
              "      <td>8.600255e+07</td>\n",
              "    </tr>\n",
              "    <tr>\n",
              "      <th>362</th>\n",
              "      <td>13-10-2019 00:00</td>\n",
              "      <td>8282.177326</td>\n",
              "      <td>8309.172913</td>\n",
              "      <td>8468.973640</td>\n",
              "      <td>8167.264904</td>\n",
              "      <td>1.300810e+13</td>\n",
              "      <td>9.182228e+07</td>\n",
              "    </tr>\n",
              "  </tbody>\n",
              "</table>\n",
              "<p>63 rows × 7 columns</p>\n",
              "</div>"
            ],
            "text/plain": [
              "                 date       closing  ...    difficulty      hashrate\n",
              "300  12-08-2019 00:00  11391.968650  ...  9.985350e+12  6.601779e+07\n",
              "301  13-08-2019 00:00  10869.379110  ...  9.985350e+12  7.793077e+07\n",
              "302  14-08-2019 00:00  10211.498580  ...  9.985350e+12  7.544890e+07\n",
              "303  15-08-2019 00:00  10386.539550  ...  9.985350e+12  7.793077e+07\n",
              "304  16-08-2019 00:00  10388.450590  ...  9.985350e+12  7.296703e+07\n",
              "..                ...           ...  ...           ...           ...\n",
              "358  09-10-2019 00:00   8572.380812  ...  1.275980e+13  8.753258e+07\n",
              "359  10-10-2019 00:00   8582.144518  ...  1.287480e+13  1.047550e+08\n",
              "360  11-10-2019 00:00   8320.171581  ...  1.300810e+13  1.008752e+08\n",
              "361  12-10-2019 00:00   8328.604260  ...  1.300810e+13  8.600255e+07\n",
              "362  13-10-2019 00:00   8282.177326  ...  1.300810e+13  9.182228e+07\n",
              "\n",
              "[63 rows x 7 columns]"
            ]
          },
          "metadata": {
            "tags": []
          },
          "execution_count": 16
        }
      ]
    },
    {
      "cell_type": "code",
      "metadata": {
        "id": "pRCF2_CRO_Hb",
        "colab_type": "code",
        "outputId": "003b8e70-dc7e-417a-ecc7-30d6b7b07e75",
        "colab": {
          "base_uri": "https://localhost:8080/",
          "height": 359
        }
      },
      "source": [
        "model = AR(train['closing'])\n",
        "model_fit = model.fit()\n",
        "\n",
        "print(\"Lag: %s\" % model_fit.k_ar)\n",
        "print(\"Coefficients: %s\" % model_fit.params)\n",
        "\n",
        "pred = model_fit.predict(start=len(train), end=len(train)+len(test)-1, dynamic=False)\n",
        "#mse = mean_squared_error(test, pred)\n",
        "#print(\"Test MSE {0:.3f}\".format(mse))"
      ],
      "execution_count": 0,
      "outputs": [
        {
          "output_type": "stream",
          "text": [
            "Lag: 16\n",
            "Coefficients: const          20.464802\n",
            "L1.closing      0.884970\n",
            "L2.closing      0.067414\n",
            "L3.closing      0.119304\n",
            "L4.closing     -0.038853\n",
            "L5.closing      0.139069\n",
            "L6.closing     -0.135448\n",
            "L7.closing     -0.129883\n",
            "L8.closing     -0.019196\n",
            "L9.closing     -0.009988\n",
            "L10.closing     0.200601\n",
            "L11.closing    -0.024870\n",
            "L12.closing     0.094537\n",
            "L13.closing    -0.104232\n",
            "L14.closing     0.083080\n",
            "L15.closing    -0.248152\n",
            "L16.closing     0.121030\n",
            "dtype: float64\n"
          ],
          "name": "stdout"
        }
      ]
    },
    {
      "cell_type": "code",
      "metadata": {
        "id": "ICkJUWq2Vh2Y",
        "colab_type": "code",
        "colab": {}
      },
      "source": [
        "btc.date = pd.to_datetime(btc.date,infer_datetime_format=True)\n",
        "\n",
        "# Resampling to daily frequency\n",
        "btc.index = btc.date\n",
        "btc = btc.resample('D').mean()\n",
        "\n",
        "# Resampling to monthly frequency\n",
        "btc_month = btc.resample('M').mean()\n",
        "\n",
        "# Resampling to annual frequency\n",
        "btc_year = btc.resample('A-DEC').mean()\n",
        "\n",
        "# Resampling to quarterly frequency\n",
        "btc_Q = btc.resample('Q-DEC').mean()"
      ],
      "execution_count": 0,
      "outputs": []
    },
    {
      "cell_type": "code",
      "metadata": {
        "id": "OLgAshbVPMRF",
        "colab_type": "code",
        "outputId": "96b8e964-ca55-4ffb-954d-1da78f1a6bd6",
        "colab": {
          "base_uri": "https://localhost:8080/",
          "height": 609
        }
      },
      "source": [
        "\n",
        "# PLOTS\n",
        "fig = plt.figure(figsize=[15, 7])\n",
        "plt.suptitle('Bitcoin exchanges, mean USD', fontsize=22)\n",
        "\n",
        "plt.subplot(221)\n",
        "plt.plot(btc.closing, '-', label='By Days')\n",
        "plt.legend()\n",
        "\n",
        "plt.subplot(222)\n",
        "plt.plot(btc_month.closing, '-', label='By Months')\n",
        "plt.legend()\n",
        "\n",
        "plt.subplot(223)\n",
        "plt.plot(btc_Q.closing, '-', label='By Quarters')\n",
        "plt.legend()\n",
        "\n",
        "plt.subplot(224)\n",
        "plt.plot(btc_year.closing, '-', label='By Years')\n",
        "plt.legend()\n",
        "\n",
        "# plt.tight_layout()\n",
        "plt.show()"
      ],
      "execution_count": 0,
      "outputs": [
        {
          "output_type": "stream",
          "text": [
            "/usr/local/lib/python3.6/dist-packages/pandas/plotting/_matplotlib/converter.py:103: FutureWarning: Using an implicitly registered datetime converter for a matplotlib plotting method. The converter was registered by pandas on import. Future versions of pandas will require you to explicitly register matplotlib converters.\n",
            "\n",
            "To register the converters:\n",
            "\t>>> from pandas.plotting import register_matplotlib_converters\n",
            "\t>>> register_matplotlib_converters()\n",
            "  warnings.warn(msg, FutureWarning)\n"
          ],
          "name": "stderr"
        },
        {
          "output_type": "display_data",
          "data": {
            "image/png": "[encoded data removed]",
            "text/plain": [
              "<Figure size 1080x504 with 4 Axes>"
            ]
          },
          "metadata": {
            "tags": []
          }
        }
      ]
    },
    {
      "cell_type": "code",
      "metadata": {
        "id": "YBb8YldCVJkb",
        "colab_type": "code",
        "colab": {}
      },
      "source": [
        "split = 50\n",
        "btc_train = btc_month[:split]\n",
        "btc_test = btc_month[split:len(btc_month)]"
      ],
      "execution_count": 0,
      "outputs": []
    },
    {
      "cell_type": "code",
      "metadata": {
        "id": "vKSR8Q90VXis",
        "colab_type": "code",
        "outputId": "a44478ac-3ca3-4dc2-893c-687876881bbb",
        "colab": {
          "base_uri": "https://localhost:8080/",
          "height": 334
        }
      },
      "source": [
        "import statsmodels.api as sm\n",
        "#Stationarity check and STL-decomposition of the series\n",
        "\n",
        "plt.figure(figsize=[15,7])\n",
        "sm.tsa.seasonal_decompose(btc_train.closing).plot()\n",
        "print(\"Dickey–Fuller test: p=%f\" % sm.tsa.stattools.adfuller(btc_train.closing)[1])\n",
        "plt.show()"
      ],
      "execution_count": 0,
      "outputs": [
        {
          "output_type": "stream",
          "text": [
            "Dickey–Fuller test: p=0.138467\n"
          ],
          "name": "stdout"
        },
        {
          "output_type": "display_data",
          "data": {
            "text/plain": [
              "<Figure size 1080x504 with 0 Axes>"
            ]
          },
          "metadata": {
            "tags": []
          }
        },
        {
          "output_type": "display_data",
          "data": {
            "image/png": "[encoded data removed]",
            "text/plain": [
              "<Figure size 432x288 with 4 Axes>"
            ]
          },
          "metadata": {
            "tags": []
          }
        }
      ]
    },
    {
      "cell_type": "markdown",
      "metadata": {
        "id": "p8GS0BgcOLbY",
        "colab_type": "text"
      },
      "source": [
        "p-value <= 0.05: Reject the null hypothesis (H0), the data does not have a unit root and is stationary."
      ]
    },
    {
      "cell_type": "code",
      "metadata": {
        "id": "iBg6TXJxXMcu",
        "colab_type": "code",
        "outputId": "1b86033c-22be-4739-a7df-5ddcd98bbd94",
        "colab": {
          "base_uri": "https://localhost:8080/",
          "height": 143
        }
      },
      "source": [
        "from scipy import stats\n",
        "# Box-Cox Transformations\n",
        "btc_train['Weighted_Price_box'], lmbda = stats.boxcox(btc_train.closing)\n",
        "print(\"Dickey–Fuller test: p=%f\" % sm.tsa.stattools.adfuller(btc_train.closing)[1])"
      ],
      "execution_count": 0,
      "outputs": [
        {
          "output_type": "stream",
          "text": [
            "Dickey–Fuller test: p=0.138467\n"
          ],
          "name": "stdout"
        },
        {
          "output_type": "stream",
          "text": [
            "/usr/local/lib/python3.6/dist-packages/ipykernel_launcher.py:3: SettingWithCopyWarning: \n",
            "A value is trying to be set on a copy of a slice from a DataFrame.\n",
            "Try using .loc[row_indexer,col_indexer] = value instead\n",
            "\n",
            "See the caveats in the documentation: http://pandas.pydata.org/pandas-docs/stable/user_guide/indexing.html#returning-a-view-versus-a-copy\n",
            "  This is separate from the ipykernel package so we can avoid doing imports until\n"
          ],
          "name": "stderr"
        }
      ]
    },
    {
      "cell_type": "code",
      "metadata": {
        "id": "mn83vypQP01W",
        "colab_type": "code",
        "outputId": "91a64fb1-9ee7-4449-c028-1025e35440d7",
        "colab": {
          "base_uri": "https://localhost:8080/",
          "height": 971
        }
      },
      "source": [
        "# Initial approximation of parameters\n",
        "import warnings\n",
        "Qs = range(0, 2)\n",
        "qs = range(0, 3)\n",
        "Ps = range(0, 3)\n",
        "ps = range(0, 3)\n",
        "D=1\n",
        "d=1\n",
        "parameters = product(ps, qs, Ps, Qs)\n",
        "parameters_list = list(parameters)\n",
        "len(parameters_list)\n",
        "\n",
        "# Model Selection\n",
        "results = []\n",
        "best_aic = float(\"inf\")\n",
        "warnings.filterwarnings('ignore')\n",
        "for param in parameters_list:\n",
        "    try:\n",
        "        model=sm.tsa.statespace.SARIMAX(btc_train.Weighted_Price_box, order=(param[0], d, param[1]), \n",
        "                                        seasonal_order=(param[2], D, param[3], 12)).fit(disp=-1)\n",
        "    except ValueError:\n",
        "        print('wrong parameters:', param)\n",
        "        continue\n",
        "    aic = model.aic\n",
        "    if aic < best_aic:\n",
        "        best_model = model\n",
        "        best_aic = aic\n",
        "        best_param = param\n",
        "    results.append([param, model.aic])"
      ],
      "execution_count": 0,
      "outputs": [
        {
          "output_type": "stream",
          "text": [
            "wrong parameters: (0, 0, 0, 1)\n",
            "wrong parameters: (0, 0, 1, 0)\n",
            "wrong parameters: (0, 0, 1, 1)\n",
            "wrong parameters: (0, 0, 2, 0)\n",
            "wrong parameters: (0, 0, 2, 1)\n",
            "wrong parameters: (0, 1, 0, 0)\n",
            "wrong parameters: (0, 1, 0, 1)\n",
            "wrong parameters: (0, 1, 1, 0)\n",
            "wrong parameters: (0, 1, 1, 1)\n",
            "wrong parameters: (0, 1, 2, 0)\n",
            "wrong parameters: (0, 1, 2, 1)\n",
            "wrong parameters: (0, 2, 0, 0)\n",
            "wrong parameters: (0, 2, 0, 1)\n",
            "wrong parameters: (0, 2, 1, 0)\n",
            "wrong parameters: (0, 2, 1, 1)\n",
            "wrong parameters: (0, 2, 2, 0)\n",
            "wrong parameters: (0, 2, 2, 1)\n",
            "wrong parameters: (1, 0, 0, 0)\n",
            "wrong parameters: (1, 0, 0, 1)\n",
            "wrong parameters: (1, 0, 1, 0)\n",
            "wrong parameters: (1, 0, 1, 1)\n",
            "wrong parameters: (1, 0, 2, 0)\n",
            "wrong parameters: (1, 0, 2, 1)\n",
            "wrong parameters: (1, 1, 0, 0)\n",
            "wrong parameters: (1, 1, 0, 1)\n",
            "wrong parameters: (1, 1, 1, 0)\n",
            "wrong parameters: (1, 1, 1, 1)\n",
            "wrong parameters: (1, 1, 2, 0)\n",
            "wrong parameters: (1, 1, 2, 1)\n",
            "wrong parameters: (1, 2, 0, 0)\n",
            "wrong parameters: (1, 2, 0, 1)\n",
            "wrong parameters: (1, 2, 1, 0)\n",
            "wrong parameters: (1, 2, 1, 1)\n",
            "wrong parameters: (1, 2, 2, 0)\n",
            "wrong parameters: (1, 2, 2, 1)\n",
            "wrong parameters: (2, 0, 0, 0)\n",
            "wrong parameters: (2, 0, 0, 1)\n",
            "wrong parameters: (2, 0, 1, 0)\n",
            "wrong parameters: (2, 0, 1, 1)\n",
            "wrong parameters: (2, 0, 2, 0)\n",
            "wrong parameters: (2, 0, 2, 1)\n",
            "wrong parameters: (2, 1, 0, 0)\n",
            "wrong parameters: (2, 1, 0, 1)\n",
            "wrong parameters: (2, 1, 1, 0)\n",
            "wrong parameters: (2, 1, 1, 1)\n",
            "wrong parameters: (2, 1, 2, 0)\n",
            "wrong parameters: (2, 1, 2, 1)\n",
            "wrong parameters: (2, 2, 0, 0)\n",
            "wrong parameters: (2, 2, 0, 1)\n",
            "wrong parameters: (2, 2, 1, 0)\n",
            "wrong parameters: (2, 2, 1, 1)\n",
            "wrong parameters: (2, 2, 2, 0)\n",
            "wrong parameters: (2, 2, 2, 1)\n"
          ],
          "name": "stdout"
        }
      ]
    },
    {
      "cell_type": "code",
      "metadata": {
        "id": "5Swsr1HqahOS",
        "colab_type": "code",
        "outputId": "667bf76e-79c9-4e7b-a9a7-6035035b3c38",
        "colab": {
          "base_uri": "https://localhost:8080/",
          "height": 467
        }
      },
      "source": [
        "# Best Models\n",
        "result_table = pd.DataFrame(results)\n",
        "result_table.columns = ['parameters', 'aic']\n",
        "print(result_table.sort_values(by = 'aic', ascending=True).head())\n",
        "print(best_model.summary())"
      ],
      "execution_count": 0,
      "outputs": [
        {
          "output_type": "stream",
          "text": [
            "     parameters  aic\n",
            "0  (0, 0, 0, 0)  2.0\n",
            "                                 Statespace Model Results                                 \n",
            "==========================================================================================\n",
            "Dep. Variable:                 Weighted_Price_box   No. Observations:                   13\n",
            "Model:             SARIMAX(0, 1, 0)x(0, 1, 0, 12)   Log Likelihood                   0.000\n",
            "Date:                            Tue, 05 Nov 2019   AIC                              2.000\n",
            "Time:                                    16:35:02   BIC                               -inf\n",
            "Sample:                                10-31-2018   HQIC                               nan\n",
            "                                     - 10-31-2019                                         \n",
            "Covariance Type:                              opg                                         \n",
            "==============================================================================\n",
            "                 coef    std err          z      P>|z|      [0.025      0.975]\n",
            "------------------------------------------------------------------------------\n",
            "sigma2          1e-10         -0       -inf      0.000       1e-10       1e-10\n",
            "===================================================================================\n",
            "Ljung-Box (Q):                         nan   Jarque-Bera (JB):                  nan\n",
            "Prob(Q):                               nan   Prob(JB):                          nan\n",
            "Heteroskedasticity (H):                nan   Skew:                              nan\n",
            "Prob(H) (two-sided):                   nan   Kurtosis:                          nan\n",
            "===================================================================================\n",
            "\n",
            "Warnings:\n",
            "[1] Covariance matrix calculated using the outer product of gradients (complex-step).\n",
            "[2] Covariance matrix is singular or near-singular, with condition number    inf. Standard errors may be unstable.\n"
          ],
          "name": "stdout"
        }
      ]
    },
    {
      "cell_type": "code",
      "metadata": {
        "id": "geqpCpXlas8L",
        "colab_type": "code",
        "colab": {}
      },
      "source": [
        "import numpy as np\n",
        "\n",
        "# Inverse Box-Cox Transformation Function\n",
        "def invboxcox(y,lmbda):\n",
        "   if lmbda == 0:\n",
        "      return(np.exp(y))\n",
        "   else:\n",
        "      return(np.exp(np.log(lmbda*y+1)/lmbda))"
      ],
      "execution_count": 0,
      "outputs": []
    },
    {
      "cell_type": "code",
      "metadata": {
        "id": "ZI22bs7Ka9rb",
        "colab_type": "code",
        "outputId": "33e590f5-b792-4b01-9754-72b9ed9c359f",
        "colab": {
          "base_uri": "https://localhost:8080/",
          "height": 431
        }
      },
      "source": [
        "btc_month2 = btc_month[['closing']]\n",
        "date_list = [datetime(2017, 6, 30), datetime(2017, 7, 31), datetime(2017, 8, 31), datetime(2017, 9, 30), \n",
        "             datetime(2017, 10, 31), datetime(2017, 11, 30), datetime(2017, 12, 31), datetime(2018, 1, 31),\n",
        "             datetime(2018, 1, 28)]\n",
        "future = pd.DataFrame(index=date_list, columns= btc_month.columns)\n",
        "btc_month2 = pd.concat([btc_month2, future])\n",
        "btc_month2['forecast'] = invboxcox(best_model.predict(start=0, end=75), lmbda)\n",
        "plt.figure(figsize=(15,7))\n",
        "btc_month2.closing.plot()\n",
        "btc_month2.forecast.plot(color='r', ls='--', label='Predicted Weighted_Price')\n",
        "plt.legend()\n",
        "plt.title('Bitcoin exchanges, by months')\n",
        "plt.ylabel('mean USD')\n",
        "plt.show()"
      ],
      "execution_count": 0,
      "outputs": [
        {
          "output_type": "display_data",
          "data": {
            "image/png": "[encoded data removed]",
            "text/plain": [
              "<Figure size 1080x504 with 1 Axes>"
            ]
          },
          "metadata": {
            "tags": []
          }
        }
      ]
    },
    {
      "cell_type": "code",
      "metadata": {
        "id": "av7g2cEngd7H",
        "colab_type": "code",
        "colab": {}
      },
      "source": [
        ""
      ],
      "execution_count": 0,
      "outputs": []
    }
  ]
}